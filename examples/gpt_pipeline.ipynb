{
 "cells": [
  {
   "cell_type": "code",
   "execution_count": 1,
   "metadata": {},
   "outputs": [],
   "source": [
    "# Import libraries\n",
    "import requests, json, os, re, configparser\n",
    "import openai\n",
    "\n",
    "#from google.cloud import bigquery\n",
    "#from google.oauth2 import service_account\n",
    "#import pandas_gbq\n",
    "\n",
    "#config = configparser.ConfigParser()\n",
    "#config.read('keys/config.ini')"
   ]
  },
  {
   "cell_type": "code",
   "execution_count": 2,
   "metadata": {},
   "outputs": [],
   "source": [
    "# Set environment variables\n",
    "# Google Cloud\n",
    "key_path = 'keys/appgpt-374716-6184be28027d.json'\n",
    "os.environ['GOOGLE_APPLICATION_CREDENTIALS'] = 'keys/appgpt_bigquery.json'\n",
    "\n",
    "credentials = service_account.Credentials.from_service_account_file(\n",
    "    key_path, scopes=[\"https://www.googleapis.com/auth/cloud-platform\"],\n",
    ")\n",
    "\n",
    "client = bigquery.Client(credentials=credentials, project=credentials.project_id,)\n",
    "pandas_gbq.context.credentials = os.environ['GOOGLE_APPLICATION_CREDENTIALS']\n",
    "pandas_gbq.context.project = \"appgpt-374716\"\n",
    "\n",
    "# OpenAI\n",
    "openai.api_key = config['API_KEYS']['openai']"
   ]
  },
  {
   "cell_type": "code",
   "execution_count": 3,
   "metadata": {},
   "outputs": [],
   "source": [
    "# Run a select query on the bigquery dataset\n",
    "def run_query(query):\n",
    "    query_job = client.query(query)\n",
    "    results = query_job.result()\n",
    "    return results"
   ]
  },
  {
   "cell_type": "code",
   "execution_count": 8,
   "metadata": {},
   "outputs": [],
   "source": [
    "# We receive the following WhatsApp message from the webhook\n",
    "\n",
    "whatsapp_test = '''\n",
    "{\n",
    "    \"object\": \"whatsapp_business_account\",\n",
    "    \"entry\": [\n",
    "        {\n",
    "            \"id\": \"106430019013275\",\n",
    "            \"changes\": [\n",
    "                {\n",
    "                    \"value\": {\n",
    "                        \"messaging_product\": \"whatsapp\",\n",
    "                        \"metadata\": {\n",
    "                            \"display_phone_number\": \"15555555555\",\n",
    "                            \"phone_number_id\": \"116414838004688\"\n",
    "                        },\n",
    "                        \"contacts\": [\n",
    "                            {\n",
    "                                \"profile\": {\n",
    "                                    \"name\": \"John Doe\"\n",
    "                                },\n",
    "                                \"wa_id\": \"32123456789\"\n",
    "                            }\n",
    "                        ],\n",
    "                        \"messages\": [\n",
    "                            {\n",
    "                                \"from\": \"32123456789\",\n",
    "                                \"id\": \"wamid.HBgLMzI0Nzk0Njc1MzYVAgASGBQzQTQxNTIwMUREOTQzRjEzNzdCOQA=\",\n",
    "                                \"timestamp\": \"1673786869\",\n",
    "                                \"text\": {\n",
    "                                    \"body\": \"Hi, What kind of fabrics do you offer ?\"\n",
    "                                },\n",
    "                                \"type\": \"text\"\n",
    "                            }\n",
    "                        ]\n",
    "                    },\n",
    "                    \"field\": \"messages\"\n",
    "                }\n",
    "            ]\n",
    "        }\n",
    "    ]\n",
    "}\n",
    "'''\n",
    "whatsapp_test = json.loads(whatsapp_test)\n"
   ]
  },
  {
   "cell_type": "code",
   "execution_count": 10,
   "metadata": {},
   "outputs": [
    {
     "name": "stdout",
     "output_type": "stream",
     "text": [
      "Downloading: 100%|\u001b[32m██████████\u001b[0m|\n",
      "We feteched 1 rows from BigQuery\n"
     ]
    },
    {
     "name": "stderr",
     "output_type": "stream",
     "text": [
      "/opt/homebrew/Caskroom/miniforge/base/envs/appgpt/lib/python3.11/site-packages/google/cloud/bigquery/_pandas_helpers.py:266: UserWarning: Unable to determine type for field 'WHATSAP_MESSAGE'.\n",
      "  warnings.warn(\"Unable to determine type for field '{}'.\".format(bq_field.name))\n"
     ]
    }
   ],
   "source": [
    "# Let's check BigQuery to see if we have a conversation with this user\n",
    "\n",
    "sender_phone_number = whatsapp_test['entry'][0]['changes'][0]['value']['messages'][0]['from']\n",
    "\n",
    "query = '''\n",
    "select WHATSAP_MESSAGE, GPT_RESPONSE, INSERT_TS\n",
    "from `conversations.chat_history`\n",
    "where (PHONE_NUMBER = %s) -- phone number\n",
    "AND (INSERT_TS > DATE_SUB(CURRENT_TIMESTAMP(), INTERVAL 24 HOUR)) -- Only look at the last 24 hours\n",
    "ORDER BY INSERT_TS DESC\n",
    "'''\n",
    "results = pandas_gbq.read_gbq(query % sender_phone_number, credentials=credentials)\n",
    "\n",
    "print(f'We feteched {len(results)} rows from BigQuery')"
   ]
  },
  {
   "cell_type": "code",
   "execution_count": 11,
   "metadata": {},
   "outputs": [],
   "source": [
    "# Initialize a method to answer the question using GPT-3\n",
    "\n",
    "def answer_question(question):\n",
    "    global context\n",
    "\n",
    "    response = openai.Completion.create(\n",
    "    model=\"text-davinci-003\",\n",
    "    prompt= context + question,\n",
    "    temperature=0.7,\n",
    "    max_tokens=256,\n",
    "    top_p=1,\n",
    "    frequency_penalty=0,\n",
    "    presence_penalty=0\n",
    "    )\n",
    "\n",
    "    return response\n"
   ]
  },
  {
   "cell_type": "code",
   "execution_count": 12,
   "metadata": {},
   "outputs": [
    {
     "name": "stdout",
     "output_type": "stream",
     "text": [
      "Pretend you are a customer service agent working for a textile wholesale named Quality Textiles.\n",
      "\n",
      "Q: Hi, What kind of fabrics do you offer ?\n",
      "\n",
      "Great question! We offer a wide range of fabrics at Quality Textiles. We specialize in cotton, linen, polyester, silk, wool, and blends. We also offer specialty fabrics such as faux fur, faux leather, vinyl, and upholstery fabrics. We also have a wide selection of prints and patterns for all of our fabrics.\n",
      "\n",
      "Q: Hi, What kind of fabrics do you offer ?\n",
      "\n",
      " Conversation appended to BigQuery\n"
     ]
    }
   ],
   "source": [
    "context = \"Pretend you are a customer service agent working for a textile wholesale named Quality Textiles.\\n\\n\"\n",
    "message_id = whatsapp_test['entry'][0]['changes'][0]['value']['messages'][0]['id']\n",
    "sender_phone_number = whatsapp_test['entry'][0]['changes'][0]['value']['messages'][0]['from']\n",
    "\n",
    "query = '''\n",
    "INSERT INTO conversations.chat_history (WHATSAPP_MESSAGE_ID, WHATSAP_MESSAGE, GPT_RESPONSE, PHONE_NUMBER, INSERT_TS)\n",
    "VALUES (%s, %s, %s, %s, CURRENT_TIMESTAMP())\n",
    "'''    \n",
    "\n",
    "# If the result is 0 start a new conversation and set the context\n",
    "if len(results) == 0:\n",
    "    #print('No conversation found, starting a new one\\n')\n",
    "    context += whatsapp_test['entry'][0]['changes'][0]['value']['messages'][0]['text']['body']\n",
    "    #print(context)\n",
    "\n",
    "    response = json.dumps(answer_question(context))\n",
    "    # escape all \\n characters in the response\n",
    "    response = re.sub(r'\\\\n', r'\\\\\\\\n', response)\n",
    "\n",
    "    # Insert the prompt and response into BigQuery\n",
    "    results = run_query(query % (\"'\" + message_id + \"'\", \"JSON'\" + json.dumps(whatsapp_test) + \"'\",\"JSON'\" + (response) + \"'\",sender_phone_number))\n",
    "    \n",
    "    print('\\n New conversation inserted into BigQuery')\n",
    "\n",
    "else :\n",
    "    # Unpack the results\n",
    "    conversation = context\n",
    "    for index, row in results.iterrows():\n",
    "        conversation += f\"Q: {json.loads(row['WHATSAP_MESSAGE'])['entry'][0]['changes'][0]['value']['messages'][0]['text']['body']}\"\n",
    "        conversation += f\"A: {json.loads(row['GPT_RESPONSE'])['choices'][0]['text']}\\n\\n\"\n",
    "        \n",
    "    conversation += f\"Q: {whatsapp_test['entry'][0]['changes'][0]['value']['messages'][0]['text']['body']}\"\n",
    "    response = json.dumps(answer_question(conversation))\n",
    "    \n",
    "    # escape all \\n characters in the response\n",
    "    response = re.sub(r'\\\\n', r'\\\\\\\\n', response)\n",
    "    results =  run_query(query % (\"'\" + message_id + \"'\", \"JSON'\" + json.dumps(whatsapp_test) + \"'\",\"JSON'\" + (response) + \"'\",sender_phone_number))\n",
    "\n",
    "    print(conversation)\n",
    "    print('\\n Conversation appended to BigQuery')\n",
    "\n",
    "\n",
    "\n",
    "    "
   ]
  }
 ],
 "metadata": {
  "kernelspec": {
   "display_name": "Python 3",
   "language": "python",
   "name": "python3"
  },
  "language_info": {
   "codemirror_mode": {
    "name": "ipython",
    "version": 3
   },
   "file_extension": ".py",
   "mimetype": "text/x-python",
   "name": "python",
   "nbconvert_exporter": "python",
   "pygments_lexer": "ipython3",
   "version": "3.11.1"
  },
  "orig_nbformat": 4,
  "vscode": {
   "interpreter": {
    "hash": "949777d72b0d2535278d3dc13498b2535136f6dfe0678499012e853ee9abcab1"
   }
  }
 },
 "nbformat": 4,
 "nbformat_minor": 2
}
